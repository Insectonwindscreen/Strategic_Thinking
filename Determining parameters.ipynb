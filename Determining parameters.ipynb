{
 "cells": [
  {
   "cell_type": "markdown",
   "id": "64d5b8fe",
   "metadata": {},
   "source": [
    "### Libraries"
   ]
  },
  {
   "cell_type": "code",
   "execution_count": 1,
   "id": "09c2aae8",
   "metadata": {},
   "outputs": [],
   "source": [
    "import pandas as pd#data structures and operations for manipulating numerical tables and time series.\n",
    "import pandas_datareader.data as data#Up-to-date remote data access for pandas.\n",
    "import datetime as dt#supplies classes for manipulating dates and times\n",
    "from datetime import timedelta\n",
    "import matplotlib.pyplot as plt#plotting library for the Python.\n",
    "import seaborn as sns;# visualizacion\n",
    "import warnings\n",
    "warnings.filterwarnings('ignore') # We can suppress the warnings\n",
    "from sklearn.preprocessing import StandardScaler\n",
    "import statsmodels.tsa.api as smtsa\n",
    "from statsmodels.tsa.stattools import arma_order_select_ic\n",
    "from statsmodels.tsa.statespace.sarimax import SARIMAX\n",
    "from statsmodels.tsa.arima_model import ARMA,ARMAResults,ARIMA,ARIMAResults\n",
    "import itertools\n",
    "import plotly.graph_objects as go"
   ]
  },
  {
   "cell_type": "markdown",
   "id": "37e413a7",
   "metadata": {},
   "source": [
    "#### A.- EDP Renováveis (EDP.BE)"
   ]
  },
  {
   "cell_type": "code",
   "execution_count": 2,
   "id": "bb530e2c",
   "metadata": {},
   "outputs": [
    {
     "data": {
      "text/html": [
       "<div>\n",
       "<style scoped>\n",
       "    .dataframe tbody tr th:only-of-type {\n",
       "        vertical-align: middle;\n",
       "    }\n",
       "\n",
       "    .dataframe tbody tr th {\n",
       "        vertical-align: top;\n",
       "    }\n",
       "\n",
       "    .dataframe thead th {\n",
       "        text-align: right;\n",
       "    }\n",
       "</style>\n",
       "<table border=\"1\" class=\"dataframe\">\n",
       "  <thead>\n",
       "    <tr style=\"text-align: right;\">\n",
       "      <th></th>\n",
       "      <th>High</th>\n",
       "      <th>Low</th>\n",
       "      <th>Open</th>\n",
       "      <th>Close</th>\n",
       "      <th>Volume</th>\n",
       "      <th>Adj Close</th>\n",
       "    </tr>\n",
       "    <tr>\n",
       "      <th>Date</th>\n",
       "      <th></th>\n",
       "      <th></th>\n",
       "      <th></th>\n",
       "      <th></th>\n",
       "      <th></th>\n",
       "      <th></th>\n",
       "    </tr>\n",
       "  </thead>\n",
       "  <tbody>\n",
       "    <tr>\n",
       "      <th>2016-01-04</th>\n",
       "      <td>7.1351</td>\n",
       "      <td>7.1351</td>\n",
       "      <td>7.1351</td>\n",
       "      <td>7.1351</td>\n",
       "      <td>0.0</td>\n",
       "      <td>6.866566</td>\n",
       "    </tr>\n",
       "    <tr>\n",
       "      <th>2016-01-05</th>\n",
       "      <td>7.3006</td>\n",
       "      <td>7.3006</td>\n",
       "      <td>7.3006</td>\n",
       "      <td>7.3006</td>\n",
       "      <td>150.0</td>\n",
       "      <td>7.025838</td>\n",
       "    </tr>\n",
       "  </tbody>\n",
       "</table>\n",
       "</div>"
      ],
      "text/plain": [
       "              High     Low    Open   Close  Volume  Adj Close\n",
       "Date                                                         \n",
       "2016-01-04  7.1351  7.1351  7.1351  7.1351     0.0   6.866566\n",
       "2016-01-05  7.3006  7.3006  7.3006  7.3006   150.0   7.025838"
      ]
     },
     "execution_count": 2,
     "metadata": {},
     "output_type": "execute_result"
    }
   ],
   "source": [
    "dateparse = lambda dates: pd.datetime.strptime(dates, '%Y-%m-%d')\n",
    "EDPR= pd.read_csv('EDPR.csv',index_col='Date',parse_dates=['Date'],date_parser=dateparse, dayfirst=True)\n",
    "EDPR.head(2)"
   ]
  },
  {
   "cell_type": "code",
   "execution_count": 3,
   "id": "9418e597",
   "metadata": {},
   "outputs": [
    {
     "data": {
      "text/plain": [
       "((1973, 6), (349, 6))"
      ]
     },
     "execution_count": 3,
     "metadata": {},
     "output_type": "execute_result"
    }
   ],
   "source": [
    "# Divide into train and validation set to calculate R-squared score and mean absolute percentage error \n",
    "train_A = EDPR[:int(0.85 * (len(EDPR)))]\n",
    "test_A  = EDPR[int(0.85 * (len(EDPR))):]\n",
    "train_A.shape, test_A.shape"
   ]
  },
  {
   "cell_type": "markdown",
   "id": "d0649449",
   "metadata": {},
   "source": [
    "ARMA"
   ]
  },
  {
   "cell_type": "code",
   "execution_count": 4,
   "id": "dbff361c",
   "metadata": {},
   "outputs": [
    {
     "data": {
      "text/plain": [
       "{'bic':               0             1            2\n",
       " 0  14617.168665  11523.098611  8918.282468\n",
       " 1   -169.377693   -168.252270  -163.480339\n",
       " 2   -167.742564   -161.979701  -157.329446\n",
       " 3   -163.848896   -157.187564  -149.582374\n",
       " 4   -156.516883   -150.443656  -157.127868,\n",
       " 'bic_min_order': (1, 0)}"
      ]
     },
     "execution_count": 4,
     "metadata": {},
     "output_type": "execute_result"
    }
   ],
   "source": [
    "import warnings\n",
    "warnings.filterwarnings('ignore')\n",
    "arma_order_select_ic(EDPR['Close'])"
   ]
  },
  {
   "cell_type": "markdown",
   "id": "43b10628",
   "metadata": {},
   "source": [
    "ARIMA"
   ]
  },
  {
   "cell_type": "code",
   "execution_count": 5,
   "id": "1cce3e34",
   "metadata": {},
   "outputs": [
    {
     "name": "stdout",
     "output_type": "stream",
     "text": [
      "[[0, 0, 0, 14605.66829687165], [0, 0, 1, 11505.848058142019], [1, 0, 0, -186.62824537428514], [1, 0, 1, -191.25300625798081], [1, 0, 2, -192.2312596071206], [2, 0, 0, -190.7433004134282], [2, 0, 1, -190.7306217989153], [2, 0, 2, -191.83055063765005], [0, 1, 0, -195.75166709182577], [0, 1, 1, -200.14401618375814], [0, 1, 2, -201.3062358475463], [1, 1, 0, -199.63931439425778], [1, 1, 1, -199.67151983236727], [1, 1, 2, -201.1867967587641], [2, 1, 0, -201.6930380042686], [2, 1, 1, -201.05333689069266], [2, 1, 2, -199.188482309547], [0, 2, 0, 1292.9388570758292], [0, 2, 1, -185.44283118813473], [0, 2, 2, -189.88852864631372], [1, 2, 0, 762.5109684242279], [1, 2, 1, -189.38093111284888], [1, 2, 2, -182.7577842855726], [2, 2, 0, 495.76014654660685], [2, 2, 1, -191.05556558884746], [2, 2, 2, -188.92498666595202]]\n"
     ]
    },
    {
     "data": {
      "text/plain": [
       "d        2.000000\n",
       "p        1.000000\n",
       "q        0.000000\n",
       "AIC   -201.693038\n",
       "Name: 14, dtype: float64"
      ]
     },
     "execution_count": 5,
     "metadata": {},
     "output_type": "execute_result"
    }
   ],
   "source": [
    "#defining sarima parameters\n",
    "\n",
    "#p=is the number of autoregressive terms\n",
    "#q=is the number of lagged forecast errors in the prediction equation.\n",
    "#d= is the number of nonseasonal differences needed for stationarity,\n",
    "aicVal=[]\n",
    "for d in range(0,3):\n",
    "    for ari in range(0, 3):\n",
    "        for maj in range(0,3):\n",
    "            try:\n",
    "                arima_obj = ARIMA(EDPR['Close'].tolist(), order=(ari,d,maj))\n",
    "                arima_obj_fit=arima_obj.fit()\n",
    "                aicVal.append([ari, d, maj, arima_obj_fit.aic])\n",
    "            except ValueError:\n",
    "                pass\n",
    "print(aicVal)           \n",
    "\n",
    "param_df= pd.DataFrame(aicVal, columns=['d', 'p' ,'q', 'AIC' ])\n",
    "param_df['AIC'] = param_df['AIC'].apply(pd.to_numeric, errors = 'coerce')\n",
    "param_df.loc[param_df['AIC'].idxmin()]"
   ]
  },
  {
   "cell_type": "markdown",
   "id": "0c2747a0",
   "metadata": {},
   "source": [
    "SARIMA"
   ]
  },
  {
   "cell_type": "code",
   "execution_count": 6,
   "id": "e425207d",
   "metadata": {},
   "outputs": [
    {
     "name": "stdout",
     "output_type": "stream",
     "text": [
      "Performing stepwise search to minimize aic\n",
      " ARIMA(1,0,1)(0,1,1)[12] intercept   : AIC=inf, Time=5.54 sec\n",
      " ARIMA(0,0,0)(0,1,0)[12] intercept   : AIC=5389.723, Time=0.51 sec\n",
      " ARIMA(1,0,0)(1,1,0)[12] intercept   : AIC=620.176, Time=2.65 sec\n",
      " ARIMA(0,0,1)(0,1,1)[12] intercept   : AIC=3409.543, Time=3.21 sec\n",
      " ARIMA(0,0,0)(0,1,0)[12]             : AIC=5407.373, Time=0.17 sec\n",
      " ARIMA(1,0,0)(0,1,0)[12] intercept   : AIC=1163.910, Time=0.33 sec\n",
      " ARIMA(1,0,0)(2,1,0)[12] intercept   : AIC=374.325, Time=11.28 sec\n",
      " ARIMA(1,0,0)(2,1,1)[12] intercept   : AIC=inf, Time=19.01 sec\n",
      " ARIMA(1,0,0)(1,1,1)[12] intercept   : AIC=inf, Time=8.73 sec\n",
      " ARIMA(0,0,0)(2,1,0)[12] intercept   : AIC=5354.242, Time=2.52 sec\n",
      " ARIMA(2,0,0)(2,1,0)[12] intercept   : AIC=370.143, Time=12.73 sec\n",
      " ARIMA(2,0,0)(1,1,0)[12] intercept   : AIC=612.255, Time=4.08 sec\n",
      " ARIMA(2,0,0)(2,1,1)[12] intercept   : AIC=inf, Time=29.81 sec\n",
      " ARIMA(2,0,0)(1,1,1)[12] intercept   : AIC=inf, Time=14.35 sec\n",
      " ARIMA(3,0,0)(2,1,0)[12] intercept   : AIC=372.013, Time=24.90 sec\n",
      " ARIMA(2,0,1)(2,1,0)[12] intercept   : AIC=372.022, Time=45.16 sec\n",
      " ARIMA(1,0,1)(2,1,0)[12] intercept   : AIC=370.063, Time=14.30 sec\n",
      " ARIMA(1,0,1)(1,1,0)[12] intercept   : AIC=612.162, Time=5.68 sec\n",
      " ARIMA(1,0,1)(2,1,1)[12] intercept   : AIC=inf, Time=39.66 sec\n",
      " ARIMA(1,0,1)(1,1,1)[12] intercept   : AIC=inf, Time=10.59 sec\n",
      " ARIMA(0,0,1)(2,1,0)[12] intercept   : AIC=3410.201, Time=9.08 sec\n",
      " ARIMA(1,0,2)(2,1,0)[12] intercept   : AIC=372.017, Time=19.63 sec\n",
      " ARIMA(0,0,2)(2,1,0)[12] intercept   : AIC=2374.782, Time=13.72 sec\n",
      " ARIMA(2,0,2)(2,1,0)[12] intercept   : AIC=373.960, Time=17.49 sec\n",
      " ARIMA(1,0,1)(2,1,0)[12]             : AIC=368.581, Time=3.74 sec\n",
      " ARIMA(1,0,1)(1,1,0)[12]             : AIC=610.812, Time=1.43 sec\n",
      " ARIMA(1,0,1)(2,1,1)[12]             : AIC=inf, Time=19.07 sec\n",
      " ARIMA(1,0,1)(1,1,1)[12]             : AIC=inf, Time=6.13 sec\n",
      " ARIMA(0,0,1)(2,1,0)[12]             : AIC=3423.132, Time=2.94 sec\n",
      " ARIMA(1,0,0)(2,1,0)[12]             : AIC=372.757, Time=3.05 sec\n",
      " ARIMA(2,0,1)(2,1,0)[12]             : AIC=370.533, Time=7.94 sec\n",
      " ARIMA(1,0,2)(2,1,0)[12]             : AIC=370.527, Time=5.61 sec\n",
      " ARIMA(0,0,0)(2,1,0)[12]             : AIC=5366.620, Time=1.24 sec\n",
      " ARIMA(0,0,2)(2,1,0)[12]             : AIC=2387.951, Time=5.14 sec\n",
      " ARIMA(2,0,0)(2,1,0)[12]             : AIC=368.665, Time=4.20 sec\n",
      " ARIMA(2,0,2)(2,1,0)[12]             : AIC=372.483, Time=5.00 sec\n",
      "\n",
      "Best model:  ARIMA(1,0,1)(2,1,0)[12]          \n",
      "Total fit time: 380.722 seconds\n"
     ]
    },
    {
     "data": {
      "text/html": [
       "<table class=\"simpletable\">\n",
       "<caption>SARIMAX Results</caption>\n",
       "<tr>\n",
       "  <th>Dep. Variable:</th>                  <td>y</td>                <th>  No. Observations:  </th>   <td>2322</td>  \n",
       "</tr>\n",
       "<tr>\n",
       "  <th>Model:</th>           <td>SARIMAX(1, 0, 1)x(2, 1, [], 12)</td> <th>  Log Likelihood     </th> <td>-179.291</td>\n",
       "</tr>\n",
       "<tr>\n",
       "  <th>Date:</th>                   <td>Sun, 15 May 2022</td>         <th>  AIC                </th>  <td>368.581</td>\n",
       "</tr>\n",
       "<tr>\n",
       "  <th>Time:</th>                       <td>14:28:24</td>             <th>  BIC                </th>  <td>397.306</td>\n",
       "</tr>\n",
       "<tr>\n",
       "  <th>Sample:</th>                         <td>0</td>                <th>  HQIC               </th>  <td>379.052</td>\n",
       "</tr>\n",
       "<tr>\n",
       "  <th></th>                             <td> - 2322</td>             <th>                     </th>     <td> </td>   \n",
       "</tr>\n",
       "<tr>\n",
       "  <th>Covariance Type:</th>               <td>opg</td>               <th>                     </th>     <td> </td>   \n",
       "</tr>\n",
       "</table>\n",
       "<table class=\"simpletable\">\n",
       "<tr>\n",
       "      <td></td>        <th>coef</th>     <th>std err</th>      <th>z</th>      <th>P>|z|</th>  <th>[0.025</th>    <th>0.975]</th>  \n",
       "</tr>\n",
       "<tr>\n",
       "  <th>ar.L1</th>    <td>    0.9646</td> <td>    0.003</td> <td>  316.477</td> <td> 0.000</td> <td>    0.959</td> <td>    0.971</td>\n",
       "</tr>\n",
       "<tr>\n",
       "  <th>ma.L1</th>    <td>    0.0544</td> <td>    0.013</td> <td>    4.104</td> <td> 0.000</td> <td>    0.028</td> <td>    0.080</td>\n",
       "</tr>\n",
       "<tr>\n",
       "  <th>ar.S.L12</th> <td>   -0.6317</td> <td>    0.011</td> <td>  -56.874</td> <td> 0.000</td> <td>   -0.654</td> <td>   -0.610</td>\n",
       "</tr>\n",
       "<tr>\n",
       "  <th>ar.S.L24</th> <td>   -0.3235</td> <td>    0.009</td> <td>  -37.499</td> <td> 0.000</td> <td>   -0.340</td> <td>   -0.307</td>\n",
       "</tr>\n",
       "<tr>\n",
       "  <th>sigma2</th>   <td>    0.0682</td> <td>    0.001</td> <td>   87.960</td> <td> 0.000</td> <td>    0.067</td> <td>    0.070</td>\n",
       "</tr>\n",
       "</table>\n",
       "<table class=\"simpletable\">\n",
       "<tr>\n",
       "  <th>Ljung-Box (L1) (Q):</th>     <td>0.00</td>  <th>  Jarque-Bera (JB):  </th> <td>15835.54</td>\n",
       "</tr>\n",
       "<tr>\n",
       "  <th>Prob(Q):</th>                <td>1.00</td>  <th>  Prob(JB):          </th>   <td>0.00</td>  \n",
       "</tr>\n",
       "<tr>\n",
       "  <th>Heteroskedasticity (H):</th> <td>33.59</td> <th>  Skew:              </th>   <td>0.04</td>  \n",
       "</tr>\n",
       "<tr>\n",
       "  <th>Prob(H) (two-sided):</th>    <td>0.00</td>  <th>  Kurtosis:          </th>   <td>15.83</td> \n",
       "</tr>\n",
       "</table><br/><br/>Warnings:<br/>[1] Covariance matrix calculated using the outer product of gradients (complex-step)."
      ],
      "text/plain": [
       "<class 'statsmodels.iolib.summary.Summary'>\n",
       "\"\"\"\n",
       "                                      SARIMAX Results                                      \n",
       "===========================================================================================\n",
       "Dep. Variable:                                   y   No. Observations:                 2322\n",
       "Model:             SARIMAX(1, 0, 1)x(2, 1, [], 12)   Log Likelihood                -179.291\n",
       "Date:                             Sun, 15 May 2022   AIC                            368.581\n",
       "Time:                                     14:28:24   BIC                            397.306\n",
       "Sample:                                          0   HQIC                           379.052\n",
       "                                            - 2322                                         \n",
       "Covariance Type:                               opg                                         \n",
       "==============================================================================\n",
       "                 coef    std err          z      P>|z|      [0.025      0.975]\n",
       "------------------------------------------------------------------------------\n",
       "ar.L1          0.9646      0.003    316.477      0.000       0.959       0.971\n",
       "ma.L1          0.0544      0.013      4.104      0.000       0.028       0.080\n",
       "ar.S.L12      -0.6317      0.011    -56.874      0.000      -0.654      -0.610\n",
       "ar.S.L24      -0.3235      0.009    -37.499      0.000      -0.340      -0.307\n",
       "sigma2         0.0682      0.001     87.960      0.000       0.067       0.070\n",
       "===================================================================================\n",
       "Ljung-Box (L1) (Q):                   0.00   Jarque-Bera (JB):             15835.54\n",
       "Prob(Q):                              1.00   Prob(JB):                         0.00\n",
       "Heteroskedasticity (H):              33.59   Skew:                             0.04\n",
       "Prob(H) (two-sided):                  0.00   Kurtosis:                        15.83\n",
       "===================================================================================\n",
       "\n",
       "Warnings:\n",
       "[1] Covariance matrix calculated using the outer product of gradients (complex-step).\n",
       "\"\"\""
      ]
     },
     "execution_count": 6,
     "metadata": {},
     "output_type": "execute_result"
    }
   ],
   "source": [
    "from pmdarima import auto_arima\n",
    "stepwise_fit = auto_arima(EDPR['Close'], start_p=1, start_q=1,\n",
    "                          max_p=3, max_q=3, m=12,\n",
    "                          start_P=0, seasonal=True,\n",
    "                          d=None, D=1, trace=True,\n",
    "                          error_action='ignore',   # we don't want to know if an order does not work\n",
    "                          suppress_warnings=True,  # we don't want convergence warnings\n",
    "                          stepwise=True)           # set to stepwise\n",
    "\n",
    "stepwise_fit.summary()"
   ]
  },
  {
   "cell_type": "markdown",
   "id": "1942fbb8",
   "metadata": {},
   "source": [
    "#### B.- Vestas Wind Systems A/S (VWSB.BE)"
   ]
  },
  {
   "cell_type": "code",
   "execution_count": 7,
   "id": "b0aaabc3",
   "metadata": {},
   "outputs": [
    {
     "data": {
      "text/html": [
       "<div>\n",
       "<style scoped>\n",
       "    .dataframe tbody tr th:only-of-type {\n",
       "        vertical-align: middle;\n",
       "    }\n",
       "\n",
       "    .dataframe tbody tr th {\n",
       "        vertical-align: top;\n",
       "    }\n",
       "\n",
       "    .dataframe thead th {\n",
       "        text-align: right;\n",
       "    }\n",
       "</style>\n",
       "<table border=\"1\" class=\"dataframe\">\n",
       "  <thead>\n",
       "    <tr style=\"text-align: right;\">\n",
       "      <th></th>\n",
       "      <th>High</th>\n",
       "      <th>Low</th>\n",
       "      <th>Open</th>\n",
       "      <th>Close</th>\n",
       "      <th>Volume</th>\n",
       "      <th>Adj Close</th>\n",
       "    </tr>\n",
       "    <tr>\n",
       "      <th>Date</th>\n",
       "      <th></th>\n",
       "      <th></th>\n",
       "      <th></th>\n",
       "      <th></th>\n",
       "      <th></th>\n",
       "      <th></th>\n",
       "    </tr>\n",
       "  </thead>\n",
       "  <tbody>\n",
       "    <tr>\n",
       "      <th>2016-01-04</th>\n",
       "      <td>483.998474</td>\n",
       "      <td>475.468903</td>\n",
       "      <td>473.500000</td>\n",
       "      <td>475.468903</td>\n",
       "      <td>2528.0</td>\n",
       "      <td>464.095367</td>\n",
       "    </tr>\n",
       "    <tr>\n",
       "      <th>2016-01-05</th>\n",
       "      <td>476.799988</td>\n",
       "      <td>465.432190</td>\n",
       "      <td>479.899994</td>\n",
       "      <td>475.200012</td>\n",
       "      <td>1738.0</td>\n",
       "      <td>463.832947</td>\n",
       "    </tr>\n",
       "  </tbody>\n",
       "</table>\n",
       "</div>"
      ],
      "text/plain": [
       "                  High         Low        Open       Close  Volume   Adj Close\n",
       "Date                                                                          \n",
       "2016-01-04  483.998474  475.468903  473.500000  475.468903  2528.0  464.095367\n",
       "2016-01-05  476.799988  465.432190  479.899994  475.200012  1738.0  463.832947"
      ]
     },
     "execution_count": 7,
     "metadata": {},
     "output_type": "execute_result"
    }
   ],
   "source": [
    "dateparse = lambda dates: pd.datetime.strptime(dates, '%Y-%m-%d')\n",
    "VWS= pd.read_csv('VWS.csv',index_col='Date', parse_dates=['Date'],date_parser=dateparse, dayfirst=True)\n",
    "VWS.head(2)"
   ]
  },
  {
   "cell_type": "code",
   "execution_count": 8,
   "id": "14ded4be",
   "metadata": {},
   "outputs": [
    {
     "data": {
      "text/plain": [
       "((1411, 6), (249, 6))"
      ]
     },
     "execution_count": 8,
     "metadata": {},
     "output_type": "execute_result"
    }
   ],
   "source": [
    "# Divide into train and validation set to calculate R-squared score and mean absolute percentage error \n",
    "train_B = VWS[:int(0.85 * (len(VWS)))]\n",
    "test_B  = VWS[int(0.85 * (len(VWS))):]\n",
    "\n",
    "train_B.shape, test_B.shape"
   ]
  },
  {
   "cell_type": "markdown",
   "id": "bbf6927e",
   "metadata": {},
   "source": [
    "ARMA"
   ]
  },
  {
   "cell_type": "code",
   "execution_count": 9,
   "id": "2b72495f",
   "metadata": {},
   "outputs": [
    {
     "data": {
      "text/plain": [
       "{'bic':               0             1             2\n",
       " 0  21470.829305  19383.328896  17888.041509\n",
       " 1  13656.938374  13663.801771  13671.195976\n",
       " 2  13663.797937  13670.535136  13677.936100\n",
       " 3  13671.191381  13678.530949  13685.350741\n",
       " 4  13678.288349  13684.354225  13680.758463,\n",
       " 'bic_min_order': (1, 0)}"
      ]
     },
     "execution_count": 9,
     "metadata": {},
     "output_type": "execute_result"
    }
   ],
   "source": [
    "arma_order_select_ic(VWS['Close'])"
   ]
  },
  {
   "cell_type": "markdown",
   "id": "4bebf09b",
   "metadata": {},
   "source": [
    "ARIMA"
   ]
  },
  {
   "cell_type": "code",
   "execution_count": 11,
   "id": "b63cb3ac",
   "metadata": {},
   "outputs": [
    {
     "name": "stdout",
     "output_type": "stream",
     "text": [
      "[[0, 0, 0, 21460.000159409723], [0, 0, 1, 19367.08517740713], [1, 0, 0, 13640.694655033036], [1, 0, 1, 13642.143479644052], [1, 0, 2, 13644.12311142556], [2, 0, 0, 13642.139645796935], [2, 0, 1, 13643.462272072698], [2, 0, 2, 13645.448663168423], [0, 1, 0, 13628.728545913014], [0, 1, 1, 13630.311197182249], [0, 1, 2, 13632.309351191998], [1, 1, 0, 13630.310292366044], [1, 1, 1, 13632.30465423588], [1, 1, 2, 13634.304647552799], [2, 1, 0, 13632.308097605186], [2, 1, 1, 13633.819570295704], [2, 1, 2, 13635.266389773598], [0, 2, 0, 14744.210164856517], [0, 2, 1, 13630.554250960196], [0, 2, 2, 13632.117065560165], [1, 2, 0, 14285.497209697172], [1, 2, 1, 13632.115890907018], [1, 2, 2, 13633.38256289847], [2, 2, 0, 14087.915185370328], [2, 2, 1, 13634.11195775317], [2, 2, 2, 13635.381084706802]]\n"
     ]
    },
    {
     "data": {
      "text/plain": [
       "d          0.000000\n",
       "p          1.000000\n",
       "q          0.000000\n",
       "AIC    13628.728546\n",
       "Name: 8, dtype: float64"
      ]
     },
     "execution_count": 11,
     "metadata": {},
     "output_type": "execute_result"
    }
   ],
   "source": [
    "#defining sarima parameters\n",
    "\n",
    "#p=is the number of autoregressive terms\n",
    "#q=is the number of lagged forecast errors in the prediction equation.\n",
    "#d= is the number of nonseasonal differences needed for stationarity,\n",
    "aicVal=[]\n",
    "for d in range(0,3):\n",
    "    for ari in range(0, 3):\n",
    "        for maj in range(0,3):\n",
    "            try:\n",
    "                arima_obj = ARIMA(VWS['Close'].tolist(), order=(ari,d,maj))\n",
    "                arima_obj_fit=arima_obj.fit()\n",
    "                aicVal.append([ari, d, maj, arima_obj_fit.aic])\n",
    "            except ValueError:\n",
    "                pass\n",
    "print(aicVal)           \n",
    "\n",
    "param_df= pd.DataFrame(aicVal, columns=['d', 'p' ,'q', 'AIC' ])\n",
    "param_df['AIC'] = param_df['AIC'].apply(pd.to_numeric, errors = 'coerce')\n",
    "param_df.loc[param_df['AIC'].idxmin()]"
   ]
  },
  {
   "cell_type": "markdown",
   "id": "f5b75b71",
   "metadata": {},
   "source": [
    "SARIMA"
   ]
  },
  {
   "cell_type": "code",
   "execution_count": 12,
   "id": "561ec467",
   "metadata": {},
   "outputs": [
    {
     "name": "stdout",
     "output_type": "stream",
     "text": [
      "Performing stepwise search to minimize aic\n",
      " ARIMA(0,0,0)(0,1,1)[12] intercept   : AIC=17602.692, Time=0.86 sec\n",
      " ARIMA(0,0,0)(0,1,0)[12] intercept   : AIC=17602.069, Time=0.08 sec\n",
      " ARIMA(1,0,0)(1,1,0)[12] intercept   : AIC=14179.114, Time=1.58 sec\n",
      " ARIMA(0,0,1)(0,1,1)[12] intercept   : AIC=16108.142, Time=2.80 sec\n",
      " ARIMA(0,0,0)(0,1,0)[12]             : AIC=17602.868, Time=0.08 sec\n",
      " ARIMA(1,0,0)(0,1,0)[12] intercept   : AIC=14590.926, Time=0.25 sec\n",
      " ARIMA(1,0,0)(2,1,0)[12] intercept   : AIC=13991.929, Time=6.67 sec\n",
      " ARIMA(1,0,0)(2,1,1)[12] intercept   : AIC=inf, Time=7.53 sec\n",
      " ARIMA(1,0,0)(1,1,1)[12] intercept   : AIC=inf, Time=5.66 sec\n",
      " ARIMA(0,0,0)(2,1,0)[12] intercept   : AIC=17586.970, Time=3.58 sec\n",
      " ARIMA(2,0,0)(2,1,0)[12] intercept   : AIC=13993.671, Time=11.58 sec\n",
      " ARIMA(1,0,1)(2,1,0)[12] intercept   : AIC=13993.683, Time=9.25 sec\n",
      " ARIMA(0,0,1)(2,1,0)[12] intercept   : AIC=16096.708, Time=9.42 sec\n",
      " ARIMA(2,0,1)(2,1,0)[12] intercept   : AIC=inf, Time=16.36 sec\n",
      " ARIMA(1,0,0)(2,1,0)[12]             : AIC=13990.173, Time=2.04 sec\n",
      " ARIMA(1,0,0)(1,1,0)[12]             : AIC=14177.358, Time=0.64 sec\n",
      " ARIMA(1,0,0)(2,1,1)[12]             : AIC=inf, Time=8.65 sec\n",
      " ARIMA(1,0,0)(1,1,1)[12]             : AIC=inf, Time=3.60 sec\n",
      " ARIMA(0,0,0)(2,1,0)[12]             : AIC=17588.421, Time=1.06 sec\n",
      " ARIMA(2,0,0)(2,1,0)[12]             : AIC=13991.917, Time=3.02 sec\n",
      " ARIMA(1,0,1)(2,1,0)[12]             : AIC=13991.930, Time=2.51 sec\n",
      " ARIMA(0,0,1)(2,1,0)[12]             : AIC=16097.881, Time=2.88 sec\n",
      " ARIMA(2,0,1)(2,1,0)[12]             : AIC=inf, Time=17.16 sec\n",
      "\n",
      "Best model:  ARIMA(1,0,0)(2,1,0)[12]          \n",
      "Total fit time: 117.317 seconds\n"
     ]
    },
    {
     "data": {
      "text/html": [
       "<table class=\"simpletable\">\n",
       "<caption>SARIMAX Results</caption>\n",
       "<tr>\n",
       "  <th>Dep. Variable:</th>                  <td>y</td>               <th>  No. Observations:  </th>   <td>1660</td>   \n",
       "</tr>\n",
       "<tr>\n",
       "  <th>Model:</th>           <td>SARIMAX(1, 0, 0)x(2, 1, 0, 12)</td> <th>  Log Likelihood     </th> <td>-6991.086</td>\n",
       "</tr>\n",
       "<tr>\n",
       "  <th>Date:</th>                   <td>Sun, 15 May 2022</td>        <th>  AIC                </th> <td>13990.173</td>\n",
       "</tr>\n",
       "<tr>\n",
       "  <th>Time:</th>                       <td>14:33:15</td>            <th>  BIC                </th> <td>14011.802</td>\n",
       "</tr>\n",
       "<tr>\n",
       "  <th>Sample:</th>                         <td>0</td>               <th>  HQIC               </th> <td>13998.193</td>\n",
       "</tr>\n",
       "<tr>\n",
       "  <th></th>                             <td> - 1660</td>            <th>                     </th>     <td> </td>    \n",
       "</tr>\n",
       "<tr>\n",
       "  <th>Covariance Type:</th>               <td>opg</td>              <th>                     </th>     <td> </td>    \n",
       "</tr>\n",
       "</table>\n",
       "<table class=\"simpletable\">\n",
       "<tr>\n",
       "      <td></td>        <th>coef</th>     <th>std err</th>      <th>z</th>      <th>P>|z|</th>  <th>[0.025</th>    <th>0.975]</th>  \n",
       "</tr>\n",
       "<tr>\n",
       "  <th>ar.L1</th>    <td>    0.9597</td> <td>    0.004</td> <td>  271.819</td> <td> 0.000</td> <td>    0.953</td> <td>    0.967</td>\n",
       "</tr>\n",
       "<tr>\n",
       "  <th>ar.S.L12</th> <td>   -0.6398</td> <td>    0.004</td> <td> -171.900</td> <td> 0.000</td> <td>   -0.647</td> <td>   -0.632</td>\n",
       "</tr>\n",
       "<tr>\n",
       "  <th>ar.S.L24</th> <td>   -0.3314</td> <td>    0.004</td> <td>  -92.958</td> <td> 0.000</td> <td>   -0.338</td> <td>   -0.324</td>\n",
       "</tr>\n",
       "<tr>\n",
       "  <th>sigma2</th>   <td>  281.9383</td> <td>    0.752</td> <td>  375.116</td> <td> 0.000</td> <td>  280.465</td> <td>  283.411</td>\n",
       "</tr>\n",
       "</table>\n",
       "<table class=\"simpletable\">\n",
       "<tr>\n",
       "  <th>Ljung-Box (L1) (Q):</th>     <td>0.23</td> <th>  Jarque-Bera (JB):  </th> <td>9154963.64</td>\n",
       "</tr>\n",
       "<tr>\n",
       "  <th>Prob(Q):</th>                <td>0.63</td> <th>  Prob(JB):          </th>    <td>0.00</td>   \n",
       "</tr>\n",
       "<tr>\n",
       "  <th>Heteroskedasticity (H):</th> <td>4.15</td> <th>  Skew:              </th>   <td>-11.88</td>  \n",
       "</tr>\n",
       "<tr>\n",
       "  <th>Prob(H) (two-sided):</th>    <td>0.00</td> <th>  Kurtosis:          </th>   <td>367.36</td>  \n",
       "</tr>\n",
       "</table><br/><br/>Warnings:<br/>[1] Covariance matrix calculated using the outer product of gradients (complex-step)."
      ],
      "text/plain": [
       "<class 'statsmodels.iolib.summary.Summary'>\n",
       "\"\"\"\n",
       "                                     SARIMAX Results                                      \n",
       "==========================================================================================\n",
       "Dep. Variable:                                  y   No. Observations:                 1660\n",
       "Model:             SARIMAX(1, 0, 0)x(2, 1, 0, 12)   Log Likelihood               -6991.086\n",
       "Date:                            Sun, 15 May 2022   AIC                          13990.173\n",
       "Time:                                    14:33:15   BIC                          14011.802\n",
       "Sample:                                         0   HQIC                         13998.193\n",
       "                                           - 1660                                         \n",
       "Covariance Type:                              opg                                         \n",
       "==============================================================================\n",
       "                 coef    std err          z      P>|z|      [0.025      0.975]\n",
       "------------------------------------------------------------------------------\n",
       "ar.L1          0.9597      0.004    271.819      0.000       0.953       0.967\n",
       "ar.S.L12      -0.6398      0.004   -171.900      0.000      -0.647      -0.632\n",
       "ar.S.L24      -0.3314      0.004    -92.958      0.000      -0.338      -0.324\n",
       "sigma2       281.9383      0.752    375.116      0.000     280.465     283.411\n",
       "===================================================================================\n",
       "Ljung-Box (L1) (Q):                   0.23   Jarque-Bera (JB):           9154963.64\n",
       "Prob(Q):                              0.63   Prob(JB):                         0.00\n",
       "Heteroskedasticity (H):               4.15   Skew:                           -11.88\n",
       "Prob(H) (two-sided):                  0.00   Kurtosis:                       367.36\n",
       "===================================================================================\n",
       "\n",
       "Warnings:\n",
       "[1] Covariance matrix calculated using the outer product of gradients (complex-step).\n",
       "\"\"\""
      ]
     },
     "execution_count": 12,
     "metadata": {},
     "output_type": "execute_result"
    }
   ],
   "source": [
    "from pmdarima import auto_arima\n",
    "stepwise_fit = auto_arima(VWS['Close'], start_p=0, start_q=0,\n",
    "                          max_p=3, max_q=8, m=12,\n",
    "                          start_P=0, seasonal=True,\n",
    "                          d=None, D=1, trace=True,\n",
    "                          error_action='ignore',   # we don't want to know if an order does not work\n",
    "                          suppress_warnings=True,  # we don't want convergence warnings\n",
    "                          stepwise=True)           # set to stepwise\n",
    "\n",
    "stepwise_fit.summary()"
   ]
  },
  {
   "cell_type": "code",
   "execution_count": null,
   "id": "72ec12d2",
   "metadata": {},
   "outputs": [],
   "source": []
  }
 ],
 "metadata": {
  "kernelspec": {
   "display_name": "Python 3 (ipykernel)",
   "language": "python",
   "name": "python3"
  },
  "language_info": {
   "codemirror_mode": {
    "name": "ipython",
    "version": 3
   },
   "file_extension": ".py",
   "mimetype": "text/x-python",
   "name": "python",
   "nbconvert_exporter": "python",
   "pygments_lexer": "ipython3",
   "version": "3.9.7"
  },
  "toc": {
   "base_numbering": 1,
   "nav_menu": {},
   "number_sections": true,
   "sideBar": true,
   "skip_h1_title": false,
   "title_cell": "Table of Contents",
   "title_sidebar": "Contents",
   "toc_cell": false,
   "toc_position": {},
   "toc_section_display": true,
   "toc_window_display": true
  }
 },
 "nbformat": 4,
 "nbformat_minor": 5
}
